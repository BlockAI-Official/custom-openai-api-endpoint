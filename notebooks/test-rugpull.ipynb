{
 "cells": [
  {
   "cell_type": "code",
   "execution_count": 3,
   "metadata": {},
   "outputs": [],
   "source": [
    "import subprocess\n",
    "\n",
    "def calculate_rug_pull_score(public_key: str) -> str:\n",
    "    \"\"\"Calculate the rug pull score for a given public key by calling the Node.js script.\"\"\"\n",
    "    try:\n",
    "        result = subprocess.run(['node', 'checkRugPulls.js', public_key], capture_output=True, text=True, check=True)\n",
    "        return result.stdout.strip()\n",
    "    except subprocess.CalledProcessError as e:\n",
    "        return f\"Error: {e.stderr.strip()}\""
   ]
  },
  {
   "cell_type": "code",
   "execution_count": 4,
   "metadata": {},
   "outputs": [
    {
     "data": {
      "text/plain": [
       "'Cleared: Transaction volume within normal limits\\nWarning: High transaction frequency detected\\nCleared: Account age is satisfactory\\nCleared: No transactions with flagged addresses\\nCleared: No suspicious smart contract interactions\\nTotal rug pull score for 8fbqVvpK3Dj7fdP2c8JJhtD7Zy3n9qtwAeGfbkgPu625: Low'"
      ]
     },
     "execution_count": 4,
     "metadata": {},
     "output_type": "execute_result"
    }
   ],
   "source": [
    "calculate_rug_pull_score('8fbqVvpK3Dj7fdP2c8JJhtD7Zy3n9qtwAeGfbkgPu625')"
   ]
  },
  {
   "cell_type": "code",
   "execution_count": null,
   "metadata": {},
   "outputs": [],
   "source": []
  }
 ],
 "metadata": {
  "kernelspec": {
   "display_name": "custom-openai-api-endpoint-w1RmsYNt-py3.12",
   "language": "python",
   "name": "python3"
  },
  "language_info": {
   "codemirror_mode": {
    "name": "ipython",
    "version": 3
   },
   "file_extension": ".py",
   "mimetype": "text/x-python",
   "name": "python",
   "nbconvert_exporter": "python",
   "pygments_lexer": "ipython3",
   "version": "3.12.3"
  }
 },
 "nbformat": 4,
 "nbformat_minor": 2
}
