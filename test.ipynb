{
 "cells": [
  {
   "cell_type": "code",
   "execution_count": 42,
   "metadata": {},
   "outputs": [],
   "source": [
    "import os\n",
    "from dotenv import load_dotenv\n",
    "\n",
    "from langchain.chat_models import ChatOpenAI\n",
    "from langchain.agents import load_tools, initialize_agent\n",
    "from langchain.agents import AgentType\n",
    "from langchain.tools import AIPluginTool"
   ]
  },
  {
   "cell_type": "code",
   "execution_count": 43,
   "metadata": {},
   "outputs": [],
   "source": [
    "# Load environment variables from .env file\n",
    "load_dotenv()\n",
    "\n",
    "# Access the environment variables\n",
    "OPENAI_API_KEY = os.getenv('OPENAI_API_KEY')"
   ]
  },
  {
   "cell_type": "code",
   "execution_count": 44,
   "metadata": {},
   "outputs": [
    {
     "name": "stdout",
     "output_type": "stream",
     "text": [
      "\n",
      "\n",
      "\u001b[1m> Entering new AgentExecutor chain...\u001b[0m\n",
      "\u001b[32;1m\u001b[1;3mI should use the Solana Labs API to retrieve information about the specified address.\n",
      "Action: solana\n",
      "Action Input: \u001b[0m\n",
      "Observation: \u001b[33;1m\u001b[1;3mUsage Guide: This extension is for exploring Solana blockchain data, such as inspecting what tokens a wallet has or explaining what happened in a transaction. Use it whenever a user asks something that might be related to their Solana account or transaction history.\n",
      "\n",
      "OpenAPI Spec: {'openapi': '3.0.2', 'info': {'title': 'Solana Labs API', 'description': 'An API for retrieving human-readable information about the Solana blockchain.', 'version': '1.0.0'}, 'servers': [{'url': 'https://chatgpt.solanalabs.com/'}], 'paths': {'/api/handlers/getAssetsByOwner': {'post': {'summary': 'getAssetsByOwner', 'description': 'Accepts Solana publicKey address. Returns Metaplex NFTs owned by the address', 'operationId': 'query_assets_by_owner', 'requestBody': {'content': {'application/json': {'schema': {'$ref': '#/components/schemas/getAccountInfoRequest'}}}, 'required': True}, 'responses': {'200': {'description': 'Successful Response'}, '500': {'description': 'Validation Error'}}, 'security': [{'HTTPBearer': []}]}}, '/api/handlers/getAccountInfo': {'post': {'summary': 'getAccountInfo', 'description': \"Returns information about the data stored by that account in a human-readable format. Human-readable formatting is only possible when the account's corresponding program owner has published an Anchor IDL on the Solana blockchain.\", 'operationId': 'query_account_info', 'requestBody': {'content': {'application/json': {'schema': {'$ref': '#/components/schemas/getAccountInfoRequest'}}}, 'required': True}, 'responses': {'200': {'description': 'Successful Response'}, '500': {'description': 'Validation Error'}}, 'security': [{'HTTPBearer': []}]}}, '/api/handlers/getTokenAccounts': {'post': {'summary': 'getTokenAccounts', 'description': 'Returns the fungible and non-fungible tokens and amounts owned by the address. May show tokens not listed in get_assets_by_owner.', 'operationId': 'query_token_accounts', 'requestBody': {'content': {'application/json': {'schema': {'$ref': '#/components/schemas/getBalanceRequest'}}}, 'required': True}, 'responses': {'200': {'description': 'Successful Response'}, '500': {'description': 'Validation Error'}}, 'security': [{'HTTPBearer': []}]}}, '/api/handlers/getBalance': {'post': {'summary': 'getBalance', 'description': 'Accepts Solana publicKey address. Returns the amount of lamports that the account has available.', 'operationId': 'query_balance', 'requestBody': {'content': {'application/json': {'schema': {'$ref': '#/components/schemas/getBalanceRequest'}}}, 'required': True}, 'responses': {'200': {'description': 'Successful Response'}, '500': {'description': 'Validation Error'}}, 'security': [{'HTTPBearer': []}]}}, '/api/handlers/getTransaction': {'post': {'summary': 'getTransaction', 'description': 'Accepts a transaction signature. Returns the publicly available transaction information and metadata. Only high level summaries based on instruction data should be provided to users unless otherwise specified. Logs, compute units, and fees are available in devMode.', 'operationId': 'query_transaction', 'requestBody': {'content': {'application/json': {'schema': {'$ref': '#/components/schemas/getTransactionRequest'}}}}, 'responses': {'200': {'description': 'Successful Response'}, '500': {'description': 'Validation Error'}}, 'security': [{'HTTPBearer': []}]}}, '/api/handlers/getSignaturesForAddress': {'post': {'summary': 'getSignaturesForAddress', 'description': 'Accepts Solana publicKey address. Returns the latest transaction signatures that involve that address.', 'operationId': 'query_signatures_for_address', 'requestBody': {'content': {'application/json': {'schema': {'$ref': '#/components/schemas/getSignaturesForAddressRequest'}}}, 'required': True}, 'responses': {'200': {'description': 'Successful Response'}, '500': {'description': 'Validation Error'}}, 'security': [{'HTTPBearer': []}]}}, '/api/handlers/getCollectionsByFloorPrice': {'post': {'summary': 'Search through Solana NFT collections by floor price', 'operationId': 'query_nft_collections_by_fp', 'requestBody': {'content': {'application/json': {'schema': {'$ref': '#/components/schemas/getCollectionsByFloorPriceRequest'}}}}, 'responses': {'200': {'description': 'Successful Response'}, '500': {'description': 'Validation Error'}}, 'security': [{'HTTPBearer': []}]}}, '/api/handlers/getListedCollectionNFTs': {'post': {'summary': 'Returns the listed NFTs in a collection available to purchase', 'operationId': 'query_listed_nfts_for_collection', 'requestBody': {'content': {'application/json': {'schema': {'$ref': '#/components/schemas/getListedCollectionNFTsRequest'}}}}, 'responses': {'200': {'description': 'Successful Response'}, '500': {'description': 'Validation Error'}}, 'security': [{'HTTPBearer': []}]}}, '/api/handlers/getCollectionsByName': {'post': {'summary': 'Searches for NFT collections based on project name', 'operationId': 'query_nfts_collections_by_name', 'requestBody': {'content': {'application/json': {'schema': {'$ref': '#/components/schemas/getCollectionsByNameRequest'}}}}, 'responses': {'200': {'description': 'Successful Response'}, '500': {'description': 'Validation Error'}}, 'security': [{'HTTPBearer': []}]}}, '/api/handlers/getTotalValue': {'post': {'summary': \"Calculates the total value of a the address's holdings in USD, with breakdown by NFTs and tokens.\", 'operationId': 'query_total_value', 'requestBody': {'content': {'application/json': {'schema': {'$ref': '#/components/schemas/getTotalValueRequest'}}}}, 'responses': {'200': {'description': 'Successful Response'}, '500': {'description': 'Validation Error'}}, 'security': [{'HTTPBearer': []}]}}, '/api/handlers/walletName': {'post': {'summary': 'Resolves wallet names to the actual solana address, or if it is already a Solana address, it looks up all the wallet names associated with that publickey. This works especially well for .sol, .glow, .backpack, or .poor domains.', 'operationId': 'query_wallet_name', 'requestBody': {'content': {'application/json': {'schema': {'type': 'object', 'properties': {'walletName': {'type': 'string'}}}}}}, 'responses': {'200': {'description': 'Successful Response'}, '500': {'description': 'Validation Error'}}, 'security': [{'HTTPBearer': []}]}}, '/api/handlers/tokenName': {'post': {'summary': 'Searches tokens by name, and returns the mint address, logo, name and symbol for up to 10 relevant, verified tokens.', 'operationId': 'search_token_name', 'requestBody': {'content': {'application/json': {'schema': {'type': 'object', 'properties': {'tokenName': {'type': 'string'}}}}}}, 'responses': {'200': {'description': 'Successful Response'}, '500': {'description': 'Validation Error'}}, 'security': [{'HTTPBearer': []}]}}}, 'components': {'schemas': {'getAccountInfoRequest': {'type': 'object', 'required': ['address'], 'properties': {'address': {'type': 'string', 'description': 'Base58 encoded PublicKey'}}}, 'getSignaturesForAddressRequest': {'title': 'GetSignaturesForAddressRequest', 'type': 'object', 'required': ['address'], 'properties': {'address': {'type': 'string', 'description': 'Base58 encoded PublicKey'}, 'beforeSignature': {'type': 'string'}, 'untilSignature': {'type': 'string'}}}, 'getBalanceRequest': {'title': 'GetBalanceRequest', 'type': 'object', 'required': ['address'], 'properties': {'address': {'title': 'Address', 'type': 'string', 'description': 'Base58 encoded PublicKey'}}}, 'getTransactionRequest': {'type': 'object', 'required': ['signature'], 'properties': {'signature': {'type': 'string'}, 'devMode': {'type': 'boolean'}}}, 'getCollectionsByFloorPriceRequest': {'type': 'object', 'properties': {'maxFloorPrice': {'type': 'number', 'nullable': True}, 'minFloorPrice': {'type': 'number', 'nullable': True}, 'orderBy': {'type': 'string', 'enum': ['ASC', 'DESC'], 'nullable': True}}}, 'getCollectionsByNameRequest': {'type': 'object', 'properties': {'projectName': {'type': 'string'}}}, 'getListedCollectionNFTsRequest': {'type': 'object', 'properties': {'projectId': {'type': 'string'}, 'priceOrder': {'type': 'string', 'nullable': True}, 'pageSize': {'type': 'number', 'nullable': True}}}, 'getTotalValueRequest': {'type': 'object', 'properties': {'address': {'type': 'string', 'description': 'Base58 encoded PublicKey'}}}}, 'securitySchemes': {'HTTPBearer': {'type': 'http', 'scheme': 'bearer'}}}}\u001b[0m\n",
      "Thought:\u001b[32;1m\u001b[1;3mI should use the '/api/handlers/getBalance' endpoint to get the amount of lamports for the specified address.\n",
      "Action: requests_post\n",
      "Action Input: {\"url\": \"https://chatgpt.solanalabs.com/api/handlers/getBalance\", \"data\": {\"address\": \"8fbqVvpK3Dj7fdP2c8JJhtD7Zy3n9qtwAeGfbkgPu625\"}}\u001b[0m\n",
      "Observation: \u001b[36;1m\u001b[1;3m{\"sol\":0.042545265}\u001b[0m\n",
      "Thought:\u001b[32;1m\u001b[1;3mThe amount of lamports for the address 8fbqVvpK3Dj7fdP2c8JJhtD7Zy3n9qtwAeGfbkgPu625 is 0.042545265 SOL.\n",
      "Final Answer: 0.042545265 SOL\u001b[0m\n",
      "\n",
      "\u001b[1m> Finished chain.\u001b[0m\n"
     ]
    },
    {
     "data": {
      "text/plain": [
       "'0.042545265 SOL'"
      ]
     },
     "execution_count": 44,
     "metadata": {},
     "output_type": "execute_result"
    }
   ],
   "source": [
    "# Setup environment variables\n",
    "URL = \"http://localhost:3000\"\n",
    "\n",
    "llm = ChatOpenAI(temperature=0)\n",
    "\n",
    "# AI Agent does best when it only has one available tool\n",
    "# to engage with URLs\n",
    "tools = load_tools([\"requests_post\"], allow_dangerous_tools=True)\n",
    "\n",
    "# AIPluginTool only fetches and returns the openapi.yaml linked to in /.well-known/ai-plugin.json\n",
    "# This may need some more work to avoid blowing up LLM context window\n",
    "tool = AIPluginTool.from_plugin_url(URL + \"/.well-known/ai-plugin.json\")\n",
    "tools += [tool]\n",
    "\n",
    "# Setup an agent to answer the question without further human feedback\n",
    "agent_chain = initialize_agent(\n",
    "    tools, llm, agent=AgentType.ZERO_SHOT_REACT_DESCRIPTION, verbose=True)\n",
    "\n",
    "# Ask the question, and the agent loop\n",
    "agent_chain.run(\n",
    "    \"How many lamports does 8fbqVvpK3Dj7fdP2c8JJhtD7Zy3n9qtwAeGfbkgPu625 have?\")"
   ]
  },
  {
   "cell_type": "code",
   "execution_count": null,
   "metadata": {},
   "outputs": [],
   "source": []
  }
 ],
 "metadata": {
  "kernelspec": {
   "display_name": "custom-openai-api-endpoint-w1RmsYNt-py3.12",
   "language": "python",
   "name": "python3"
  },
  "language_info": {
   "codemirror_mode": {
    "name": "ipython",
    "version": 3
   },
   "file_extension": ".py",
   "mimetype": "text/x-python",
   "name": "python",
   "nbconvert_exporter": "python",
   "pygments_lexer": "ipython3",
   "version": "3.12.3"
  }
 },
 "nbformat": 4,
 "nbformat_minor": 2
}
